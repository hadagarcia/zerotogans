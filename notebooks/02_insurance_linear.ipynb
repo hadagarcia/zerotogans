{
  "nbformat": 4,
  "nbformat_minor": 0,
  "metadata": {
    "colab": {
      "name": "02-insurance-linear.ipynb",
      "provenance": [],
      "include_colab_link": true
    },
    "kernelspec": {
      "display_name": "Python 3",
      "language": "python",
      "name": "python3"
    },
    "language_info": {
      "codemirror_mode": {
        "name": "ipython",
        "version": 3
      },
      "file_extension": ".py",
      "mimetype": "text/x-python",
      "name": "python",
      "nbconvert_exporter": "python",
      "pygments_lexer": "ipython3",
      "version": "3.8.5"
    },
    "widgets": {
      "application/vnd.jupyter.widget-state+json": {
        "2a873d6d901a4f3b9ff7b961627a89e4": {
          "model_module": "@jupyter-widgets/controls",
          "model_name": "HBoxModel",
          "state": {
            "_dom_classes": [],
            "_model_module": "@jupyter-widgets/controls",
            "_model_module_version": "1.5.0",
            "_model_name": "HBoxModel",
            "_view_count": null,
            "_view_module": "@jupyter-widgets/controls",
            "_view_module_version": "1.5.0",
            "_view_name": "HBoxView",
            "box_style": "",
            "children": [
              "IPY_MODEL_7b05ccbd13bd4332b286f35efda5e8a4",
              "IPY_MODEL_4dc04cebe88a4850bf902b142d5c69ec"
            ],
            "layout": "IPY_MODEL_46aae33e4a654bb19660f1e0d484ff8c"
          }
        },
        "46aae33e4a654bb19660f1e0d484ff8c": {
          "model_module": "@jupyter-widgets/base",
          "model_name": "LayoutModel",
          "state": {
            "_model_module": "@jupyter-widgets/base",
            "_model_module_version": "1.2.0",
            "_model_name": "LayoutModel",
            "_view_count": null,
            "_view_module": "@jupyter-widgets/base",
            "_view_module_version": "1.2.0",
            "_view_name": "LayoutView",
            "align_content": null,
            "align_items": null,
            "align_self": null,
            "border": null,
            "bottom": null,
            "display": null,
            "flex": null,
            "flex_flow": null,
            "grid_area": null,
            "grid_auto_columns": null,
            "grid_auto_flow": null,
            "grid_auto_rows": null,
            "grid_column": null,
            "grid_gap": null,
            "grid_row": null,
            "grid_template_areas": null,
            "grid_template_columns": null,
            "grid_template_rows": null,
            "height": null,
            "justify_content": null,
            "justify_items": null,
            "left": null,
            "margin": null,
            "max_height": null,
            "max_width": null,
            "min_height": null,
            "min_width": null,
            "object_fit": null,
            "object_position": null,
            "order": null,
            "overflow": null,
            "overflow_x": null,
            "overflow_y": null,
            "padding": null,
            "right": null,
            "top": null,
            "visibility": null,
            "width": null
          }
        },
        "7b05ccbd13bd4332b286f35efda5e8a4": {
          "model_module": "@jupyter-widgets/controls",
          "model_name": "FloatProgressModel",
          "state": {
            "_dom_classes": [],
            "_model_module": "@jupyter-widgets/controls",
            "_model_module_version": "1.5.0",
            "_model_name": "FloatProgressModel",
            "_view_count": null,
            "_view_module": "@jupyter-widgets/controls",
            "_view_module_version": "1.5.0",
            "_view_name": "ProgressView",
            "bar_style": "info",
            "description": "",
            "description_tooltip": null,
            "layout": "IPY_MODEL_9eea2c36302f4df9ae8da31a759f420a",
            "max": 1,
            "min": 0,
            "orientation": "horizontal",
            "style": "IPY_MODEL_17437b8305c24b39b9e7842934fc212a",
            "value": 1
          }
        },
        "4dc04cebe88a4850bf902b142d5c69ec": {
          "model_module": "@jupyter-widgets/controls",
          "model_name": "HTMLModel",
          "state": {
            "_dom_classes": [],
            "_model_module": "@jupyter-widgets/controls",
            "_model_module_version": "1.5.0",
            "_model_name": "HTMLModel",
            "_view_count": null,
            "_view_module": "@jupyter-widgets/controls",
            "_view_module_version": "1.5.0",
            "_view_name": "HTMLView",
            "description": "",
            "description_tooltip": null,
            "layout": "IPY_MODEL_e0fe0232a59045f39446203574a91c78",
            "placeholder": "​",
            "style": "IPY_MODEL_c7fd581592124495b4a03b32b09719b4",
            "value": " 57344/? [00:20&lt;00:00, 132903.75it/s]"
          }
        },
        "17437b8305c24b39b9e7842934fc212a": {
          "model_module": "@jupyter-widgets/controls",
          "model_name": "ProgressStyleModel",
          "state": {
            "_model_module": "@jupyter-widgets/controls",
            "_model_module_version": "1.5.0",
            "_model_name": "ProgressStyleModel",
            "_view_count": null,
            "_view_module": "@jupyter-widgets/base",
            "_view_module_version": "1.2.0",
            "_view_name": "StyleView",
            "bar_color": null,
            "description_width": "initial"
          }
        },
        "9eea2c36302f4df9ae8da31a759f420a": {
          "model_module": "@jupyter-widgets/base",
          "model_name": "LayoutModel",
          "state": {
            "_model_module": "@jupyter-widgets/base",
            "_model_module_version": "1.2.0",
            "_model_name": "LayoutModel",
            "_view_count": null,
            "_view_module": "@jupyter-widgets/base",
            "_view_module_version": "1.2.0",
            "_view_name": "LayoutView",
            "align_content": null,
            "align_items": null,
            "align_self": null,
            "border": null,
            "bottom": null,
            "display": null,
            "flex": null,
            "flex_flow": null,
            "grid_area": null,
            "grid_auto_columns": null,
            "grid_auto_flow": null,
            "grid_auto_rows": null,
            "grid_column": null,
            "grid_gap": null,
            "grid_row": null,
            "grid_template_areas": null,
            "grid_template_columns": null,
            "grid_template_rows": null,
            "height": null,
            "justify_content": null,
            "justify_items": null,
            "left": null,
            "margin": null,
            "max_height": null,
            "max_width": null,
            "min_height": null,
            "min_width": null,
            "object_fit": null,
            "object_position": null,
            "order": null,
            "overflow": null,
            "overflow_x": null,
            "overflow_y": null,
            "padding": null,
            "right": null,
            "top": null,
            "visibility": null,
            "width": null
          }
        },
        "c7fd581592124495b4a03b32b09719b4": {
          "model_module": "@jupyter-widgets/controls",
          "model_name": "DescriptionStyleModel",
          "state": {
            "_model_module": "@jupyter-widgets/controls",
            "_model_module_version": "1.5.0",
            "_model_name": "DescriptionStyleModel",
            "_view_count": null,
            "_view_module": "@jupyter-widgets/base",
            "_view_module_version": "1.2.0",
            "_view_name": "StyleView",
            "description_width": ""
          }
        },
        "e0fe0232a59045f39446203574a91c78": {
          "model_module": "@jupyter-widgets/base",
          "model_name": "LayoutModel",
          "state": {
            "_model_module": "@jupyter-widgets/base",
            "_model_module_version": "1.2.0",
            "_model_name": "LayoutModel",
            "_view_count": null,
            "_view_module": "@jupyter-widgets/base",
            "_view_module_version": "1.2.0",
            "_view_name": "LayoutView",
            "align_content": null,
            "align_items": null,
            "align_self": null,
            "border": null,
            "bottom": null,
            "display": null,
            "flex": null,
            "flex_flow": null,
            "grid_area": null,
            "grid_auto_columns": null,
            "grid_auto_flow": null,
            "grid_auto_rows": null,
            "grid_column": null,
            "grid_gap": null,
            "grid_row": null,
            "grid_template_areas": null,
            "grid_template_columns": null,
            "grid_template_rows": null,
            "height": null,
            "justify_content": null,
            "justify_items": null,
            "left": null,
            "margin": null,
            "max_height": null,
            "max_width": null,
            "min_height": null,
            "min_width": null,
            "object_fit": null,
            "object_position": null,
            "order": null,
            "overflow": null,
            "overflow_x": null,
            "overflow_y": null,
            "padding": null,
            "right": null,
            "top": null,
            "visibility": null,
            "width": null
          }
        }
      }
    }
  },
  "cells": [
    {
      "cell_type": "markdown",
      "metadata": {
        "id": "view-in-github",
        "colab_type": "text"
      },
      "source": [
        "<a href=\"https://colab.research.google.com/github/hadagarcia/zerotogans/blob/main/notebooks/02_insurance_linear.ipynb\" target=\"_parent\"><img src=\"https://colab.research.google.com/assets/colab-badge.svg\" alt=\"Open In Colab\"/></a>"
      ]
    },
    {
      "cell_type": "code",
      "metadata": {
        "id": "TlSZ_L-MOr9e"
      },
      "source": [
        "# Jovian Commit Essentials\n",
        "# Please retain and execute this cell without modifying the contents for `jovian.commit` to work\n",
        "!pip install jovian --upgrade -q\n",
        "import jovian\n",
        "jovian.utils.colab.set_colab_file_id('1trscVUPkUd4O-4ECNojXgRsHrVBtiJub')"
      ],
      "execution_count": null,
      "outputs": []
    },
    {
      "cell_type": "markdown",
      "metadata": {
        "_cell_guid": "b1076dfc-b9ad-4769-8c92-a6c4dae69d19",
        "_uuid": "8f2839f25d086af736a60e9eeb907d3b93b6e0e5",
        "id": "5WBA_dXkLdL2"
      },
      "source": [
        "# Insurance cost prediction using linear regression\n",
        "\n",
        "Make a submisson here: https://jovian.ai/learn/deep-learning-with-pytorch-zero-to-gans/assignment/assignment-2-train-your-first-model\n",
        "\n",
        "In this assignment we're going to use information like a person's age, sex, BMI, no. of children and smoking habit to predict the price of yearly medical bills. This kind of model is useful for insurance companies to determine the yearly insurance premium for a person. The dataset for this problem is taken from [Kaggle](https://www.kaggle.com/mirichoi0218/insurance).\n",
        "\n",
        "\n",
        "We will create a model with the following steps:\n",
        "1. Download and explore the dataset\n",
        "2. Prepare the dataset for training\n",
        "3. Create a linear regression model\n",
        "4. Train the model to fit the data\n",
        "5. Make predictions using the trained model\n",
        "\n",
        "\n",
        "This assignment builds upon the concepts from the first 2 lessons. It will help to review these Jupyter notebooks:\n",
        "- PyTorch basics: https://jovian.ai/aakashns/01-pytorch-basics\n",
        "- Linear Regression: https://jovian.ai/aakashns/02-linear-regression\n",
        "- Logistic Regression: https://jovian.ai/aakashns/03-logistic-regression\n",
        "- Linear regression (minimal): https://jovian.ai/aakashns/housing-linear-minimal\n",
        "- Logistic regression (minimal): https://jovian.ai/aakashns/mnist-logistic-minimal\n",
        "\n",
        "As you go through this notebook, you will find a **???** in certain places. Your job is to replace the **???** with appropriate code or values, to ensure that the notebook runs properly end-to-end . In some cases, you'll be required to choose some hyperparameters (learning rate, batch size etc.). Try to experiment with the hypeparameters to get the lowest loss.\n"
      ]
    },
    {
      "cell_type": "code",
      "metadata": {
        "id": "wQs2cfSlLdL5"
      },
      "source": [
        "import torch\n",
        "import jovian\n",
        "import torchvision\n",
        "import torch.nn as nn\n",
        "import pandas as pd\n",
        "import numpy as np\n",
        "import matplotlib.pyplot as plt\n",
        "import torch.nn.functional as F\n",
        "from torchvision.datasets.utils import download_url\n",
        "from torch.utils.data import DataLoader, TensorDataset, random_split"
      ],
      "execution_count": null,
      "outputs": []
    },
    {
      "cell_type": "code",
      "metadata": {
        "id": "5_2t9lDXLdL5"
      },
      "source": [
        "project_name='02-insurance-linear-regression' # will be used by jovian.commit"
      ],
      "execution_count": null,
      "outputs": []
    },
    {
      "cell_type": "markdown",
      "metadata": {
        "id": "ps3saN6fLdL6"
      },
      "source": [
        "## Step 1: Download and explore the data\n",
        "\n",
        "Let us begin by downloading the data. We'll use the `download_url` function from PyTorch to get the data as a CSV (comma-separated values) file. "
      ]
    },
    {
      "cell_type": "code",
      "metadata": {
        "_cell_guid": "79c7e3d0-c299-4dcb-8224-4455121ee9b0",
        "_uuid": "d629ff2d2480ee46fbb7e2d37f6b5fab8052498a",
        "colab": {
          "base_uri": "https://localhost:8080/",
          "height": 66,
          "referenced_widgets": [
            "2a873d6d901a4f3b9ff7b961627a89e4",
            "46aae33e4a654bb19660f1e0d484ff8c",
            "7b05ccbd13bd4332b286f35efda5e8a4",
            "4dc04cebe88a4850bf902b142d5c69ec",
            "17437b8305c24b39b9e7842934fc212a",
            "9eea2c36302f4df9ae8da31a759f420a",
            "c7fd581592124495b4a03b32b09719b4",
            "e0fe0232a59045f39446203574a91c78"
          ]
        },
        "id": "75I_hf9eLdL7",
        "outputId": "7f48edb0-d6a1-40cb-d48c-4fba686230aa"
      },
      "source": [
        "DATASET_URL = \"https://hub.jovian.ml/wp-content/uploads/2020/05/insurance.csv\"\n",
        "DATA_FILENAME = \"insurance.csv\"\n",
        "download_url(DATASET_URL, '.')"
      ],
      "execution_count": null,
      "outputs": [
        {
          "output_type": "stream",
          "text": [
            "Downloading https://hub.jovian.ml/wp-content/uploads/2020/05/insurance.csv to ./insurance.csv\n"
          ],
          "name": "stdout"
        },
        {
          "output_type": "display_data",
          "data": {
            "application/vnd.jupyter.widget-view+json": {
              "model_id": "2a873d6d901a4f3b9ff7b961627a89e4",
              "version_major": 2,
              "version_minor": 0
            },
            "text/plain": [
              "HBox(children=(FloatProgress(value=1.0, bar_style='info', max=1.0), HTML(value='')))"
            ]
          },
          "metadata": {
            "tags": []
          }
        }
      ]
    },
    {
      "cell_type": "markdown",
      "metadata": {
        "id": "M5G-k_42LdL9"
      },
      "source": [
        "To load the dataset into memory, we'll use the `read_csv` function from the `pandas` library. The data will be loaded as a Pandas dataframe. See this short tutorial to learn more: https://data36.com/pandas-tutorial-1-basics-reading-data-files-dataframes-data-selection/"
      ]
    },
    {
      "cell_type": "code",
      "metadata": {
        "colab": {
          "base_uri": "https://localhost:8080/",
          "height": 204
        },
        "id": "UxXNAmTYLdL-",
        "outputId": "351187c0-a944-4a4f-d9d6-9bb8c55040d4"
      },
      "source": [
        "dataframe_raw = pd.read_csv(DATA_FILENAME)\n",
        "dataframe_raw.head()"
      ],
      "execution_count": null,
      "outputs": [
        {
          "output_type": "execute_result",
          "data": {
            "text/html": [
              "<div>\n",
              "<style scoped>\n",
              "    .dataframe tbody tr th:only-of-type {\n",
              "        vertical-align: middle;\n",
              "    }\n",
              "\n",
              "    .dataframe tbody tr th {\n",
              "        vertical-align: top;\n",
              "    }\n",
              "\n",
              "    .dataframe thead th {\n",
              "        text-align: right;\n",
              "    }\n",
              "</style>\n",
              "<table border=\"1\" class=\"dataframe\">\n",
              "  <thead>\n",
              "    <tr style=\"text-align: right;\">\n",
              "      <th></th>\n",
              "      <th>age</th>\n",
              "      <th>sex</th>\n",
              "      <th>bmi</th>\n",
              "      <th>children</th>\n",
              "      <th>smoker</th>\n",
              "      <th>region</th>\n",
              "      <th>charges</th>\n",
              "    </tr>\n",
              "  </thead>\n",
              "  <tbody>\n",
              "    <tr>\n",
              "      <th>0</th>\n",
              "      <td>19</td>\n",
              "      <td>female</td>\n",
              "      <td>27.900</td>\n",
              "      <td>0</td>\n",
              "      <td>yes</td>\n",
              "      <td>southwest</td>\n",
              "      <td>16884.92400</td>\n",
              "    </tr>\n",
              "    <tr>\n",
              "      <th>1</th>\n",
              "      <td>18</td>\n",
              "      <td>male</td>\n",
              "      <td>33.770</td>\n",
              "      <td>1</td>\n",
              "      <td>no</td>\n",
              "      <td>southeast</td>\n",
              "      <td>1725.55230</td>\n",
              "    </tr>\n",
              "    <tr>\n",
              "      <th>2</th>\n",
              "      <td>28</td>\n",
              "      <td>male</td>\n",
              "      <td>33.000</td>\n",
              "      <td>3</td>\n",
              "      <td>no</td>\n",
              "      <td>southeast</td>\n",
              "      <td>4449.46200</td>\n",
              "    </tr>\n",
              "    <tr>\n",
              "      <th>3</th>\n",
              "      <td>33</td>\n",
              "      <td>male</td>\n",
              "      <td>22.705</td>\n",
              "      <td>0</td>\n",
              "      <td>no</td>\n",
              "      <td>northwest</td>\n",
              "      <td>21984.47061</td>\n",
              "    </tr>\n",
              "    <tr>\n",
              "      <th>4</th>\n",
              "      <td>32</td>\n",
              "      <td>male</td>\n",
              "      <td>28.880</td>\n",
              "      <td>0</td>\n",
              "      <td>no</td>\n",
              "      <td>northwest</td>\n",
              "      <td>3866.85520</td>\n",
              "    </tr>\n",
              "  </tbody>\n",
              "</table>\n",
              "</div>"
            ],
            "text/plain": [
              "   age     sex     bmi  children smoker     region      charges\n",
              "0   19  female  27.900         0    yes  southwest  16884.92400\n",
              "1   18    male  33.770         1     no  southeast   1725.55230\n",
              "2   28    male  33.000         3     no  southeast   4449.46200\n",
              "3   33    male  22.705         0     no  northwest  21984.47061\n",
              "4   32    male  28.880         0     no  northwest   3866.85520"
            ]
          },
          "metadata": {
            "tags": []
          },
          "execution_count": 5
        }
      ]
    },
    {
      "cell_type": "markdown",
      "metadata": {
        "id": "ZCedn0dlLdL_"
      },
      "source": [
        "We're going to do a slight customization of the data, so that you every participant receives a slightly different version of the dataset. Fill in your name below as a string (enter at least 5 characters)"
      ]
    },
    {
      "cell_type": "code",
      "metadata": {
        "id": "l7TSNOoiLdMA"
      },
      "source": [
        "your_name = 'balbina' # at least 5 characters"
      ],
      "execution_count": null,
      "outputs": []
    },
    {
      "cell_type": "markdown",
      "metadata": {
        "id": "pVAef0o_LdMB"
      },
      "source": [
        "The `customize_dataset` function will customize the dataset slightly using your name as a source of random numbers."
      ]
    },
    {
      "cell_type": "code",
      "metadata": {
        "id": "HQVSER1QLdMC"
      },
      "source": [
        "def customize_dataset(dataframe_raw, rand_str):\n",
        "    dataframe = dataframe_raw.copy(deep=True)\n",
        "    # drop some rows\n",
        "    dataframe = dataframe.sample(int(0.95*len(dataframe)), random_state=int(ord(rand_str[0])))\n",
        "    # scale input\n",
        "    dataframe.bmi = dataframe.bmi * ord(rand_str[1])/100.\n",
        "    # scale target\n",
        "    dataframe.charges = dataframe.charges * ord(rand_str[2])/100.\n",
        "    # drop column\n",
        "    if ord(rand_str[3]) % 2 == 1:\n",
        "        dataframe = dataframe.drop(['region'], axis=1)\n",
        "    return dataframe"
      ],
      "execution_count": null,
      "outputs": []
    },
    {
      "cell_type": "code",
      "metadata": {
        "colab": {
          "base_uri": "https://localhost:8080/",
          "height": 204
        },
        "id": "-Q-qvWXOLdMC",
        "outputId": "3ae6f1e4-f401-425b-bcb6-0a53d1331732"
      },
      "source": [
        "dataframe = customize_dataset(dataframe_raw, your_name)\n",
        "dataframe.head()"
      ],
      "execution_count": null,
      "outputs": [
        {
          "output_type": "execute_result",
          "data": {
            "text/html": [
              "<div>\n",
              "<style scoped>\n",
              "    .dataframe tbody tr th:only-of-type {\n",
              "        vertical-align: middle;\n",
              "    }\n",
              "\n",
              "    .dataframe tbody tr th {\n",
              "        vertical-align: top;\n",
              "    }\n",
              "\n",
              "    .dataframe thead th {\n",
              "        text-align: right;\n",
              "    }\n",
              "</style>\n",
              "<table border=\"1\" class=\"dataframe\">\n",
              "  <thead>\n",
              "    <tr style=\"text-align: right;\">\n",
              "      <th></th>\n",
              "      <th>age</th>\n",
              "      <th>sex</th>\n",
              "      <th>bmi</th>\n",
              "      <th>children</th>\n",
              "      <th>smoker</th>\n",
              "      <th>region</th>\n",
              "      <th>charges</th>\n",
              "    </tr>\n",
              "  </thead>\n",
              "  <tbody>\n",
              "    <tr>\n",
              "      <th>1306</th>\n",
              "      <td>29</td>\n",
              "      <td>female</td>\n",
              "      <td>21.1945</td>\n",
              "      <td>0</td>\n",
              "      <td>yes</td>\n",
              "      <td>northeast</td>\n",
              "      <td>17404.528860</td>\n",
              "    </tr>\n",
              "    <tr>\n",
              "      <th>206</th>\n",
              "      <td>59</td>\n",
              "      <td>male</td>\n",
              "      <td>25.6080</td>\n",
              "      <td>0</td>\n",
              "      <td>no</td>\n",
              "      <td>southeast</td>\n",
              "      <td>12682.762920</td>\n",
              "    </tr>\n",
              "    <tr>\n",
              "      <th>191</th>\n",
              "      <td>36</td>\n",
              "      <td>female</td>\n",
              "      <td>25.4140</td>\n",
              "      <td>0</td>\n",
              "      <td>no</td>\n",
              "      <td>southwest</td>\n",
              "      <td>5274.575280</td>\n",
              "    </tr>\n",
              "    <tr>\n",
              "      <th>573</th>\n",
              "      <td>62</td>\n",
              "      <td>female</td>\n",
              "      <td>35.7542</td>\n",
              "      <td>1</td>\n",
              "      <td>no</td>\n",
              "      <td>northeast</td>\n",
              "      <td>34149.601145</td>\n",
              "    </tr>\n",
              "    <tr>\n",
              "      <th>76</th>\n",
              "      <td>29</td>\n",
              "      <td>female</td>\n",
              "      <td>28.7023</td>\n",
              "      <td>1</td>\n",
              "      <td>no</td>\n",
              "      <td>southeast</td>\n",
              "      <td>4263.206148</td>\n",
              "    </tr>\n",
              "  </tbody>\n",
              "</table>\n",
              "</div>"
            ],
            "text/plain": [
              "      age     sex      bmi  children smoker     region       charges\n",
              "1306   29  female  21.1945         0    yes  northeast  17404.528860\n",
              "206    59    male  25.6080         0     no  southeast  12682.762920\n",
              "191    36  female  25.4140         0     no  southwest   5274.575280\n",
              "573    62  female  35.7542         1     no  northeast  34149.601145\n",
              "76     29  female  28.7023         1     no  southeast   4263.206148"
            ]
          },
          "metadata": {
            "tags": []
          },
          "execution_count": 8
        }
      ]
    },
    {
      "cell_type": "code",
      "metadata": {
        "colab": {
          "base_uri": "https://localhost:8080/"
        },
        "id": "S5jrDKzJNgFg",
        "outputId": "2e1bd318-d6c1-4bdb-c09d-e2cf6b5b7c6f"
      },
      "source": [
        "type(dataframe)"
      ],
      "execution_count": null,
      "outputs": [
        {
          "output_type": "execute_result",
          "data": {
            "text/plain": [
              "pandas.core.frame.DataFrame"
            ]
          },
          "metadata": {
            "tags": []
          },
          "execution_count": 9
        }
      ]
    },
    {
      "cell_type": "markdown",
      "metadata": {
        "id": "1nnDCmIgLdMD"
      },
      "source": [
        "Let us answer some basic questions about the dataset. \n",
        "\n",
        "\n",
        "**Q: How many rows does the dataset have?**"
      ]
    },
    {
      "cell_type": "code",
      "metadata": {
        "colab": {
          "base_uri": "https://localhost:8080/"
        },
        "id": "sHXKpApRLdME",
        "outputId": "5960838d-731b-40a1-ca4c-213907ed93f6"
      },
      "source": [
        "num_rows = len(dataframe)\n",
        "print(num_rows)"
      ],
      "execution_count": null,
      "outputs": [
        {
          "output_type": "stream",
          "text": [
            "1271\n"
          ],
          "name": "stdout"
        }
      ]
    },
    {
      "cell_type": "markdown",
      "metadata": {
        "id": "khxM2BhALdME"
      },
      "source": [
        "**Q: How many columns does the dataset have**"
      ]
    },
    {
      "cell_type": "code",
      "metadata": {
        "colab": {
          "base_uri": "https://localhost:8080/"
        },
        "id": "Cv8TlkgsLdMF",
        "outputId": "567677b0-81b3-4fbf-ea31-91869d778bae"
      },
      "source": [
        "_, num_cols = dataframe.shape\n",
        "print(num_cols)"
      ],
      "execution_count": null,
      "outputs": [
        {
          "output_type": "stream",
          "text": [
            "7\n"
          ],
          "name": "stdout"
        }
      ]
    },
    {
      "cell_type": "code",
      "metadata": {
        "colab": {
          "base_uri": "https://localhost:8080/"
        },
        "id": "iI1tHxgjTWdp",
        "outputId": "1cd5fb7a-a2dd-40be-9de8-bf21518610cc"
      },
      "source": [
        "# To make it easier to answer the following questions, I'll divide the dataframe in input and output columns\r\n",
        "dataframe_inputs = dataframe[dataframe.columns[:6]]\r\n",
        "print(dataframe_inputs.head(2))\r\n",
        "\r\n",
        "dataframe_outputs = dataframe[dataframe.columns[-1:]]\r\n",
        "print(dataframe_outputs.head(2))\r\n"
      ],
      "execution_count": null,
      "outputs": [
        {
          "output_type": "stream",
          "text": [
            "      age     sex      bmi  children smoker     region\n",
            "1306   29  female  21.1945         0    yes  northeast\n",
            "206    59    male  25.6080         0     no  southeast\n",
            "          charges\n",
            "1306  17404.52886\n",
            "206   12682.76292\n"
          ],
          "name": "stdout"
        }
      ]
    },
    {
      "cell_type": "markdown",
      "metadata": {
        "id": "ohtxRaceLdMF"
      },
      "source": [
        "**Q: What are the column titles of the input variables?**"
      ]
    },
    {
      "cell_type": "code",
      "metadata": {
        "colab": {
          "base_uri": "https://localhost:8080/"
        },
        "id": "7tlWpAQhLdMF",
        "outputId": "87d263a4-e9e6-4350-c2e7-2cf4dfb68c5d"
      },
      "source": [
        "input_cols = list(dataframe_inputs.columns)\r\n",
        "print(input_cols[:6]) # 'age', 'sex', 'bmi', 'children', 'smoker', 'region'"
      ],
      "execution_count": null,
      "outputs": [
        {
          "output_type": "stream",
          "text": [
            "['age', 'sex', 'bmi', 'children', 'smoker', 'region']\n"
          ],
          "name": "stdout"
        }
      ]
    },
    {
      "cell_type": "markdown",
      "metadata": {
        "id": "lkmltiV0LdMG"
      },
      "source": [
        "**Q: Which of the input columns are non-numeric or categorial variables ?**\n",
        "\n",
        "Hint: `sex` is one of them. List the columns that are not numbers."
      ]
    },
    {
      "cell_type": "code",
      "metadata": {
        "colab": {
          "base_uri": "https://localhost:8080/"
        },
        "id": "HvlTE2cXLdMG",
        "outputId": "d968cff7-0419-4ff7-d1e1-b34b4ed44768"
      },
      "source": [
        "categorical_cols = list(dataframe_inputs.select_dtypes(exclude=np.number).columns)\r\n",
        "print(categorical_cols)"
      ],
      "execution_count": null,
      "outputs": [
        {
          "output_type": "stream",
          "text": [
            "['sex', 'smoker', 'region']\n"
          ],
          "name": "stdout"
        }
      ]
    },
    {
      "cell_type": "markdown",
      "metadata": {
        "id": "t6aOy7o5LdMG"
      },
      "source": [
        "**Q: What are the column titles of output/target variable(s)?**"
      ]
    },
    {
      "cell_type": "code",
      "metadata": {
        "colab": {
          "base_uri": "https://localhost:8080/"
        },
        "id": "D4RqyXI0LdMH",
        "outputId": "356f460e-8287-40f2-f818-2cc9bf2c5603"
      },
      "source": [
        "output_cols = list(dataframe_outputs.columns)\r\n",
        "print(output_cols)"
      ],
      "execution_count": null,
      "outputs": [
        {
          "output_type": "stream",
          "text": [
            "['charges']\n"
          ],
          "name": "stdout"
        }
      ]
    },
    {
      "cell_type": "markdown",
      "metadata": {
        "id": "wYCAu5fDLdMH"
      },
      "source": [
        "**Q: (Optional) What is the minimum, maximum and average value of the `charges` column? Can you show the distribution of values in a graph?**\n",
        "Use this data visualization cheatsheet for referece: https://jovian.ml/aakashns/dataviz-cheatsheet"
      ]
    },
    {
      "cell_type": "code",
      "metadata": {
        "colab": {
          "base_uri": "https://localhost:8080/",
          "height": 297
        },
        "id": "LaDAUfO8LdMI",
        "outputId": "f65d6171-a7e3-4616-8b52-4127c3c87505"
      },
      "source": [
        "# Write your answer here\r\n",
        "values = dataframe_outputs.describe()\r\n",
        "values"
      ],
      "execution_count": null,
      "outputs": [
        {
          "output_type": "execute_result",
          "data": {
            "text/html": [
              "<div>\n",
              "<style scoped>\n",
              "    .dataframe tbody tr th:only-of-type {\n",
              "        vertical-align: middle;\n",
              "    }\n",
              "\n",
              "    .dataframe tbody tr th {\n",
              "        vertical-align: top;\n",
              "    }\n",
              "\n",
              "    .dataframe thead th {\n",
              "        text-align: right;\n",
              "    }\n",
              "</style>\n",
              "<table border=\"1\" class=\"dataframe\">\n",
              "  <thead>\n",
              "    <tr style=\"text-align: right;\">\n",
              "      <th></th>\n",
              "      <th>charges</th>\n",
              "    </tr>\n",
              "  </thead>\n",
              "  <tbody>\n",
              "    <tr>\n",
              "      <th>count</th>\n",
              "      <td>1271.000000</td>\n",
              "    </tr>\n",
              "    <tr>\n",
              "      <th>mean</th>\n",
              "      <td>14436.984079</td>\n",
              "    </tr>\n",
              "    <tr>\n",
              "      <th>std</th>\n",
              "      <td>13209.435806</td>\n",
              "    </tr>\n",
              "    <tr>\n",
              "      <th>min</th>\n",
              "      <td>1211.623812</td>\n",
              "    </tr>\n",
              "    <tr>\n",
              "      <th>25%</th>\n",
              "      <td>5107.322565</td>\n",
              "    </tr>\n",
              "    <tr>\n",
              "      <th>50%</th>\n",
              "      <td>10163.885400</td>\n",
              "    </tr>\n",
              "    <tr>\n",
              "      <th>75%</th>\n",
              "      <td>18187.921408</td>\n",
              "    </tr>\n",
              "    <tr>\n",
              "      <th>max</th>\n",
              "      <td>68872.062251</td>\n",
              "    </tr>\n",
              "  </tbody>\n",
              "</table>\n",
              "</div>"
            ],
            "text/plain": [
              "            charges\n",
              "count   1271.000000\n",
              "mean   14436.984079\n",
              "std    13209.435806\n",
              "min     1211.623812\n",
              "25%     5107.322565\n",
              "50%    10163.885400\n",
              "75%    18187.921408\n",
              "max    68872.062251"
            ]
          },
          "metadata": {
            "tags": []
          },
          "execution_count": 16
        }
      ]
    },
    {
      "cell_type": "code",
      "metadata": {
        "id": "DdhULO1QRy-f"
      },
      "source": [
        "import matplotlib\r\n",
        "import matplotlib.pyplot as plt\r\n",
        "import seaborn as sns"
      ],
      "execution_count": null,
      "outputs": []
    },
    {
      "cell_type": "code",
      "metadata": {
        "id": "A-hqRAEI0lLw"
      },
      "source": [
        "sns.set_style(\"darkgrid\")\r\n",
        "matplotlib.rcParams['font.size'] = 12\r\n",
        "matplotlib.rcParams['figure.figsize'] = (9, 5)"
      ],
      "execution_count": null,
      "outputs": []
    },
    {
      "cell_type": "code",
      "metadata": {
        "colab": {
          "base_uri": "https://localhost:8080/",
          "height": 365
        },
        "id": "olacDteTS05S",
        "outputId": "60ae81cf-15ea-493b-fc7e-b286b912b4e0"
      },
      "source": [
        "sns.displot(dataframe_outputs, x=\"charges\", kde=True);"
      ],
      "execution_count": null,
      "outputs": [
        {
          "output_type": "display_data",
          "data": {
            "image/png": "[encoded data removed]",
            "text/plain": [
              "<Figure size 360x360 with 1 Axes>"
            ]
          },
          "metadata": {
            "tags": []
          }
        }
      ]
    },
    {
      "cell_type": "markdown",
      "metadata": {
        "id": "IdLrAjqYLdMI"
      },
      "source": [
        "Remember to commit your notebook to Jovian after every step, so that you don't lose your work."
      ]
    },
    {
      "cell_type": "markdown",
      "metadata": {
        "id": "H8KDvTCOLdMK"
      },
      "source": [
        "## Step 2: Prepare the dataset for training\n",
        "\n",
        "We need to convert the data from the Pandas dataframe into a PyTorch tensors for training. To do this, the first step is to convert it numpy arrays. If you've filled out `input_cols`, `categorial_cols` and `output_cols` correctly, this following function will perform the conversion to numpy arrays."
      ]
    },
    {
      "cell_type": "code",
      "metadata": {
        "id": "uks4zJMcLdMK"
      },
      "source": [
        "def dataframe_to_arrays(dataframe):\n",
        "    # Make a copy of the original dataframe\n",
        "    dataframe1 = dataframe.copy(deep=True)\n",
        "    # Convert non-numeric categorical columns to numbers\n",
        "    for col in categorical_cols:\n",
        "        dataframe1[col] = dataframe1[col].astype('category').cat.codes\n",
        "    # Extract input & outupts as numpy arrays\n",
        "    inputs_array = dataframe1[input_cols].to_numpy()\n",
        "    targets_array = dataframe1[output_cols].to_numpy()\n",
        "    return inputs_array, targets_array"
      ],
      "execution_count": null,
      "outputs": []
    },
    {
      "cell_type": "markdown",
      "metadata": {
        "id": "ZKhS2eXJLdMM"
      },
      "source": [
        "Read through the [Pandas documentation](https://pandas.pydata.org/pandas-docs/stable/user_guide/categorical.html) to understand how we're converting categorical variables into numbers."
      ]
    },
    {
      "cell_type": "code",
      "metadata": {
        "colab": {
          "base_uri": "https://localhost:8080/"
        },
        "id": "XDFtY1XqLdMN",
        "outputId": "c900deb4-d0ca-4301-9c75-04c0aea62786"
      },
      "source": [
        "inputs_array, targets_array = dataframe_to_arrays(dataframe)\n",
        "inputs_array, targets_array"
      ],
      "execution_count": null,
      "outputs": [
        {
          "output_type": "execute_result",
          "data": {
            "text/plain": [
              "(array([[29.     ,  0.     , 21.1945 ,  0.     ,  1.     ,  0.     ],\n",
              "        [59.     ,  1.     , 25.608  ,  0.     ,  0.     ,  2.     ],\n",
              "        [36.     ,  0.     , 25.414  ,  0.     ,  0.     ,  3.     ],\n",
              "        ...,\n",
              "        [40.     ,  0.     , 40.1774 ,  1.     ,  0.     ,  1.     ],\n",
              "        [52.     ,  0.     , 17.78495,  0.     ,  0.     ,  1.     ],\n",
              "        [39.     ,  1.     , 34.241  ,  2.     ,  1.     ,  3.     ]]),\n",
              " array([[17404.52886  ],\n",
              "        [12682.76292  ],\n",
              "        [ 5274.57528  ],\n",
              "        ...,\n",
              "        [30754.8737892],\n",
              "        [10790.320662 ],\n",
              "        [43312.2012   ]]))"
            ]
          },
          "metadata": {
            "tags": []
          },
          "execution_count": 21
        }
      ]
    },
    {
      "cell_type": "markdown",
      "metadata": {
        "id": "CVEvBprqLdMO"
      },
      "source": [
        "**Q: Convert the numpy arrays `inputs_array` and `targets_array` into PyTorch tensors. Make sure that the data type is `torch.float32`.**"
      ]
    },
    {
      "cell_type": "code",
      "metadata": {
        "id": "sj00mW8-LdMO"
      },
      "source": [
        "inputs = torch.tensor(inputs_array, dtype=torch.float32)\n",
        "targets = torch.tensor(targets_array, dtype=torch.float32)"
      ],
      "execution_count": null,
      "outputs": []
    },
    {
      "cell_type": "code",
      "metadata": {
        "colab": {
          "base_uri": "https://localhost:8080/"
        },
        "id": "knvBIpdPLdMP",
        "outputId": "3c78676e-d4ad-4669-dbf4-3268d9cf2972"
      },
      "source": [
        "inputs.dtype, targets.dtype"
      ],
      "execution_count": null,
      "outputs": [
        {
          "output_type": "execute_result",
          "data": {
            "text/plain": [
              "(torch.float32, torch.float32)"
            ]
          },
          "metadata": {
            "tags": []
          },
          "execution_count": 23
        }
      ]
    },
    {
      "cell_type": "markdown",
      "metadata": {
        "id": "ZVnB39LwLdMP"
      },
      "source": [
        "Next, we need to create PyTorch datasets & data loaders for training & validation. We'll start by creating a `TensorDataset`."
      ]
    },
    {
      "cell_type": "code",
      "metadata": {
        "id": "e-9g0wIHLdMQ"
      },
      "source": [
        "dataset = TensorDataset(inputs, targets)"
      ],
      "execution_count": null,
      "outputs": []
    },
    {
      "cell_type": "markdown",
      "metadata": {
        "id": "CJ_CxL3TLdMQ"
      },
      "source": [
        "**Q: Pick a number between `0.1` and `0.2` to determine the fraction of data that will be used for creating the validation set. Then use `random_split` to create training & validation datasets.**"
      ]
    },
    {
      "cell_type": "code",
      "metadata": {
        "id": "1JcSof6FLdMR"
      },
      "source": [
        "val_percent = 0.15 # between 0.1 and 0.2\n",
        "val_size = int(num_rows * val_percent)\n",
        "train_size = num_rows - val_size\n",
        "\n",
        "\n",
        "train_ds, val_ds = random_split(dataset, [train_size, val_size]) # Use the random_split function to split dataset into 2 parts of the desired length"
      ],
      "execution_count": null,
      "outputs": []
    },
    {
      "cell_type": "code",
      "metadata": {
        "colab": {
          "base_uri": "https://localhost:8080/"
        },
        "id": "02mhE5jRfSDv",
        "outputId": "4972d0c8-4cfb-407f-e02f-6f5c4e951b0f"
      },
      "source": [
        "len(train_ds), len(val_ds)"
      ],
      "execution_count": null,
      "outputs": [
        {
          "output_type": "execute_result",
          "data": {
            "text/plain": [
              "(1081, 190)"
            ]
          },
          "metadata": {
            "tags": []
          },
          "execution_count": 26
        }
      ]
    },
    {
      "cell_type": "markdown",
      "metadata": {
        "id": "0k4TCMT6LdMS"
      },
      "source": [
        "Finally, we can create data loaders for training & validation.\n",
        "\n",
        "**Q: Pick a batch size for the data loader.**"
      ]
    },
    {
      "cell_type": "code",
      "metadata": {
        "id": "RviaSl8mLdMS"
      },
      "source": [
        "batch_size = 32"
      ],
      "execution_count": null,
      "outputs": []
    },
    {
      "cell_type": "code",
      "metadata": {
        "id": "bbcLH6WsLdMS"
      },
      "source": [
        "train_loader = DataLoader(train_ds, batch_size, shuffle=True)\n",
        "val_loader = DataLoader(val_ds, batch_size)"
      ],
      "execution_count": null,
      "outputs": []
    },
    {
      "cell_type": "markdown",
      "metadata": {
        "id": "qHtnzjCHLdMT"
      },
      "source": [
        "Let's look at a batch of data to verify everything is working fine so far."
      ]
    },
    {
      "cell_type": "code",
      "metadata": {
        "colab": {
          "base_uri": "https://localhost:8080/"
        },
        "id": "oGijDnNlLdMT",
        "outputId": "4561d225-a257-485a-bd13-43158aa24212"
      },
      "source": [
        "for xb, yb in train_loader:\n",
        "    print(\"inputs:\", xb)\n",
        "    print(\"targets:\", yb)\n",
        "    break"
      ],
      "execution_count": null,
      "outputs": [
        {
          "output_type": "stream",
          "text": [
            "inputs: tensor([[43.0000,  1.0000, 33.9112,  1.0000,  1.0000,  0.0000],\n",
            "        [41.0000,  1.0000, 35.9385,  2.0000,  0.0000,  1.0000],\n",
            "        [50.0000,  0.0000, 27.2764,  3.0000,  0.0000,  1.0000],\n",
            "        [46.0000,  0.0000, 46.6279,  2.0000,  0.0000,  0.0000],\n",
            "        [29.0000,  1.0000, 22.2082,  0.0000,  1.0000,  0.0000],\n",
            "        [24.0000,  1.0000, 25.0260,  0.0000,  0.0000,  3.0000],\n",
            "        [38.0000,  0.0000, 39.3480,  1.0000,  0.0000,  1.0000],\n",
            "        [62.0000,  1.0000, 37.6651,  0.0000,  0.0000,  2.0000],\n",
            "        [51.0000,  1.0000, 24.6380,  0.0000,  0.0000,  3.0000],\n",
            "        [33.0000,  0.0000, 21.4709,  1.0000,  0.0000,  0.0000],\n",
            "        [34.0000,  0.0000, 22.8532,  0.0000,  0.0000,  0.0000],\n",
            "        [19.0000,  0.0000, 27.0921,  3.0000,  0.0000,  1.0000],\n",
            "        [29.0000,  1.0000, 33.3680,  0.0000,  1.0000,  3.0000],\n",
            "        [33.0000,  0.0000, 37.7330,  3.0000,  0.0000,  3.0000],\n",
            "        [35.0000,  1.0000, 38.5187,  4.0000,  0.0000,  0.0000],\n",
            "        [41.0000,  0.0000, 32.0682,  2.0000,  0.0000,  1.0000],\n",
            "        [49.0000,  1.0000, 30.4095,  1.0000,  0.0000,  0.0000],\n",
            "        [24.0000,  0.0000, 23.4982,  0.0000,  0.0000,  1.0000],\n",
            "        [58.0000,  0.0000, 31.9760,  0.0000,  0.0000,  0.0000],\n",
            "        [62.0000,  0.0000, 38.0240,  0.0000,  0.0000,  3.0000],\n",
            "        [41.0000,  1.0000, 32.5435,  0.0000,  0.0000,  2.0000],\n",
            "        [31.0000,  0.0000, 36.9521,  1.0000,  1.0000,  0.0000],\n",
            "        [29.0000,  0.0000, 28.7023,  1.0000,  0.0000,  2.0000],\n",
            "        [64.0000,  1.0000, 23.0472,  0.0000,  1.0000,  2.0000],\n",
            "        [27.0000,  1.0000, 31.6899,  0.0000,  0.0000,  2.0000],\n",
            "        [26.0000,  1.0000, 17.1399,  0.0000,  0.0000,  1.0000],\n",
            "        [18.0000,  0.0000, 25.9281,  0.0000,  0.0000,  2.0000],\n",
            "        [42.0000,  1.0000, 27.4607,  3.0000,  1.0000,  1.0000],\n",
            "        [32.0000,  1.0000, 30.5550,  1.0000,  0.0000,  3.0000],\n",
            "        [60.0000,  1.0000, 39.6924,  0.0000,  1.0000,  2.0000],\n",
            "        [19.0000,  0.0000, 17.2660,  0.0000,  0.0000,  3.0000],\n",
            "        [61.0000,  0.0000, 20.4573,  0.0000,  0.0000,  1.0000]])\n",
            "targets: tensor([[44316.9609],\n",
            "        [ 7846.9585],\n",
            "        [11972.4336],\n",
            "        [10187.5596],\n",
            "        [17429.8633],\n",
            "        [ 2130.7859],\n",
            "        [ 6883.4419],\n",
            "        [14019.8535],\n",
            "        [ 9485.0664],\n",
            "        [ 5782.4004],\n",
            "        [ 5391.7666],\n",
            "        [20345.8008],\n",
            "        [39093.5156],\n",
            "        [ 6450.1685],\n",
            "        [21056.4570],\n",
            "        [ 8369.0889],\n",
            "        [10033.3506],\n",
            "        [ 3070.1816],\n",
            "        [13425.4297],\n",
            "        [14548.5283],\n",
            "        [ 6155.8247],\n",
            "        [63256.7617],\n",
            "        [ 4263.2061],\n",
            "        [29080.6348],\n",
            "        [ 2696.8013],\n",
            "        [ 2895.4253],\n",
            "        [ 1745.0281],\n",
            "        [35410.4570],\n",
            "        [ 4402.6167],\n",
            "        [52567.4453],\n",
            "        [ 1866.0078],\n",
            "        [14488.2412]])\n"
          ],
          "name": "stdout"
        }
      ]
    },
    {
      "cell_type": "markdown",
      "metadata": {
        "id": "PJnZhE39LdMT"
      },
      "source": [
        "Let's save our work by committing to Jovian."
      ]
    },
    {
      "cell_type": "code",
      "metadata": {
        "colab": {
          "base_uri": "https://localhost:8080/",
          "height": 120
        },
        "id": "Vja25Oq7LdMU",
        "outputId": "4ae426c6-db56-49a1-cec5-7dd08d5dd0da"
      },
      "source": [
        "jovian.commit(project=project_name, environment=None)"
      ],
      "execution_count": null,
      "outputs": [
        {
          "output_type": "stream",
          "text": [
            "[jovian] Detected Colab notebook...\u001b[0m\n",
            "[jovian] Please enter your API key ( from https://jovian.ai/ ):\u001b[0m\n",
            "API KEY: ··········\n",
            "[jovian] Uploading colab notebook to Jovian...\u001b[0m\n",
            "[jovian] Committed successfully! https://jovian.ai/hada-garcia/02-insurance-linear-regression\u001b[0m\n"
          ],
          "name": "stdout"
        },
        {
          "output_type": "execute_result",
          "data": {
            "application/vnd.google.colaboratory.intrinsic+json": {
              "type": "string"
            },
            "text/plain": [
              "'https://jovian.ai/hada-garcia/02-insurance-linear-regression'"
            ]
          },
          "metadata": {
            "tags": []
          },
          "execution_count": 61
        }
      ]
    },
    {
      "cell_type": "markdown",
      "metadata": {
        "id": "xgrNMJdzLdMU"
      },
      "source": [
        "## Step 3: Create a Linear Regression Model\n",
        "\n",
        "Our model itself is a fairly straightforward linear regression (we'll build more complex models in the next assignment). \n"
      ]
    },
    {
      "cell_type": "code",
      "metadata": {
        "id": "GZxYqTt5LdMU"
      },
      "source": [
        "input_size = len(input_cols)\n",
        "output_size = len(output_cols)"
      ],
      "execution_count": null,
      "outputs": []
    },
    {
      "cell_type": "code",
      "metadata": {
        "colab": {
          "base_uri": "https://localhost:8080/"
        },
        "id": "UcNEMSYYiNX9",
        "outputId": "3c3b9c1e-29cf-4298-de13-debb36ca5b39"
      },
      "source": [
        "input_size, output_size"
      ],
      "execution_count": null,
      "outputs": [
        {
          "output_type": "execute_result",
          "data": {
            "text/plain": [
              "(6, 1)"
            ]
          },
          "metadata": {
            "tags": []
          },
          "execution_count": 31
        }
      ]
    },
    {
      "cell_type": "markdown",
      "metadata": {
        "id": "TVYhjAIeLdMV"
      },
      "source": [
        "**Q: Complete the class definition below by filling out the constructor (`__init__`), `forward`, `training_step` and `validation_step` methods.**\n",
        "\n",
        "Hint: Think carefully about picking a good loss function (it's not cross entropy). Maybe try 2-3 of them and see which one works best. See https://pytorch.org/docs/stable/nn.functional.html#loss-functions"
      ]
    },
    {
      "cell_type": "code",
      "metadata": {
        "id": "hU1GYz5VLdMV"
      },
      "source": [
        "class InsuranceModel(nn.Module):\n",
        "    def __init__(self):\n",
        "        super().__init__()\n",
        "        self.linear = nn.Linear(input_size, output_size)                 # fill this (hint: use input_size & output_size defined above)\n",
        "        \n",
        "    def forward(self, xb):\n",
        "        out = self.linear(xb)                      # fill this\n",
        "        return out\n",
        "    \n",
        "    def training_step(self, batch):\n",
        "        inputs, targets = batch \n",
        "        # Generate predictions\n",
        "        out = self(inputs)          \n",
        "        # Calcuate loss\n",
        "        loss = F.l1_loss(out, targets)                # fill this\n",
        "        return loss\n",
        "    \n",
        "    def validation_step(self, batch):\n",
        "        inputs, targets = batch\n",
        "        # Generate predictions\n",
        "        out = self(inputs)\n",
        "        # Calculate loss\n",
        "        loss = F.l1_loss(out, targets)                         # fill this    \n",
        "        return {'val_loss': loss.detach()}\n",
        "        \n",
        "    def validation_epoch_end(self, outputs):\n",
        "        batch_losses = [x['val_loss'] for x in outputs]\n",
        "        epoch_loss = torch.stack(batch_losses).mean()   # Combine losses\n",
        "        return {'val_loss': epoch_loss.item()}\n",
        "    \n",
        "    def epoch_end(self, epoch, result, num_epochs):\n",
        "        # Print result every 20th epoch\n",
        "        if (epoch+1) % 20 == 0 or epoch == num_epochs-1:\n",
        "            print(\"Epoch [{}], val_loss: {:.4f}\".format(epoch+1, result['val_loss']))"
      ],
      "execution_count": null,
      "outputs": []
    },
    {
      "cell_type": "markdown",
      "metadata": {
        "id": "iyH0rr-3LdMW"
      },
      "source": [
        "Let us create a model using the `InsuranceModel` class. You may need to come back later and re-run the next cell to reinitialize the model, in case the loss becomes `nan` or `infinity`."
      ]
    },
    {
      "cell_type": "code",
      "metadata": {
        "id": "O1koFzlxLdMX"
      },
      "source": [
        "insuranceModel = InsuranceModel()"
      ],
      "execution_count": null,
      "outputs": []
    },
    {
      "cell_type": "markdown",
      "metadata": {
        "id": "hFJJPhEjLdMX"
      },
      "source": [
        "Let's check out the weights and biases of the model using `model.parameters`."
      ]
    },
    {
      "cell_type": "code",
      "metadata": {
        "colab": {
          "base_uri": "https://localhost:8080/"
        },
        "id": "jJIViZ51LdMY",
        "outputId": "1c1c104e-53a9-441b-f10c-44afdc137e63"
      },
      "source": [
        "list(insuranceModel.parameters())"
      ],
      "execution_count": null,
      "outputs": [
        {
          "output_type": "execute_result",
          "data": {
            "text/plain": [
              "[Parameter containing:\n",
              " tensor([[ 0.2986, -0.1532,  0.2264,  0.2474,  0.2430,  0.3250]],\n",
              "        requires_grad=True), Parameter containing:\n",
              " tensor([0.2350], requires_grad=True)]"
            ]
          },
          "metadata": {
            "tags": []
          },
          "execution_count": 34
        }
      ]
    },
    {
      "cell_type": "markdown",
      "metadata": {
        "id": "MmWu1dnOLdMZ"
      },
      "source": [
        "One final commit before we train the model."
      ]
    },
    {
      "cell_type": "code",
      "metadata": {
        "id": "gHyw8c4WLdMZ"
      },
      "source": [
        "jovian.commit(project=project_name, environment=None)"
      ],
      "execution_count": null,
      "outputs": []
    },
    {
      "cell_type": "markdown",
      "metadata": {
        "id": "cNGMRm32LdMa"
      },
      "source": [
        "## Step 4: Train the model to fit the data\n",
        "\n",
        "To train our model, we'll use the same `fit` function explained in the lecture. That's the benefit of defining a generic training loop - you can use it for any problem."
      ]
    },
    {
      "cell_type": "code",
      "metadata": {
        "id": "nt0XYez8LdMa"
      },
      "source": [
        "def evaluate(model, val_loader):\n",
        "    outputs = [model.validation_step(batch) for batch in val_loader]\n",
        "    return model.validation_epoch_end(outputs)\n",
        "\n",
        "def fit(epochs, lr, model, train_loader, val_loader, opt_func=torch.optim.SGD):\n",
        "    history = []\n",
        "    optimizer = opt_func(model.parameters(), lr)\n",
        "    for epoch in range(epochs):\n",
        "        # Training Phase \n",
        "        for batch in train_loader:\n",
        "            loss = model.training_step(batch)\n",
        "            loss.backward()\n",
        "            optimizer.step()\n",
        "            optimizer.zero_grad()\n",
        "        # Validation phase\n",
        "        result = evaluate(model, val_loader)\n",
        "        model.epoch_end(epoch, result, epochs)\n",
        "        history.append(result)\n",
        "    return history"
      ],
      "execution_count": null,
      "outputs": []
    },
    {
      "cell_type": "markdown",
      "metadata": {
        "id": "8WdVHopOLdMb"
      },
      "source": [
        "**Q: Use the `evaluate` function to calculate the loss on the validation set before training.**"
      ]
    },
    {
      "cell_type": "code",
      "metadata": {
        "colab": {
          "base_uri": "https://localhost:8080/"
        },
        "id": "6oHZSuq5LdMb",
        "outputId": "e6e9db10-f9be-4e6e-c1ad-681376bac250"
      },
      "source": [
        "result = evaluate(insuranceModel, val_loader) # Use the the evaluate function\n",
        "print(result)"
      ],
      "execution_count": null,
      "outputs": [
        {
          "output_type": "stream",
          "text": [
            "{'val_loss': 14147.5087890625}\n"
          ],
          "name": "stdout"
        }
      ]
    },
    {
      "cell_type": "markdown",
      "metadata": {
        "id": "Etg5GqKDLdMb"
      },
      "source": [
        "\n",
        "We are now ready to train the model. You may need to run the training loop many times, for different number of epochs and with different learning rates, to get a good result. Also, if your loss becomes too large (or `nan`), you may have to re-initialize the model by running the cell `insuranceModel = InsuranceModel()`. Experiment with this for a while, and try to get to as low a loss as possible."
      ]
    },
    {
      "cell_type": "markdown",
      "metadata": {
        "id": "LjnyCmyYLdMc"
      },
      "source": [
        "**Q: Train the model 4-5 times with different learning rates & for different number of epochs.**\n",
        "\n",
        "Hint: Vary learning rates by orders of 10 (e.g. `1e-2`, `1e-3`, `1e-4`, `1e-5`, `1e-6`) to figure out what works."
      ]
    },
    {
      "cell_type": "code",
      "metadata": {
        "colab": {
          "base_uri": "https://localhost:8080/"
        },
        "id": "YcYvqYQrLdMc",
        "outputId": "f8e153d7-9b4a-472e-8848-d92ebdc42f45"
      },
      "source": [
        "epochs = 500\n",
        "lr = 5e-3\n",
        "history1 = fit(epochs, lr, insuranceModel, train_loader, val_loader)"
      ],
      "execution_count": null,
      "outputs": [
        {
          "output_type": "stream",
          "text": [
            "Epoch [20], val_loss: 8467.4131\n",
            "Epoch [40], val_loss: 7822.5508\n",
            "Epoch [60], val_loss: 7773.2905\n",
            "Epoch [80], val_loss: 7734.6665\n",
            "Epoch [100], val_loss: 7699.5903\n",
            "Epoch [120], val_loss: 7665.3301\n",
            "Epoch [140], val_loss: 7633.0610\n",
            "Epoch [160], val_loss: 7601.4858\n",
            "Epoch [180], val_loss: 7571.3550\n",
            "Epoch [200], val_loss: 7541.2310\n",
            "Epoch [220], val_loss: 7511.9272\n",
            "Epoch [240], val_loss: 7482.9956\n",
            "Epoch [260], val_loss: 7457.5962\n",
            "Epoch [280], val_loss: 7434.9087\n",
            "Epoch [300], val_loss: 7413.9648\n",
            "Epoch [320], val_loss: 7395.1382\n",
            "Epoch [340], val_loss: 7379.1470\n",
            "Epoch [360], val_loss: 7366.8555\n",
            "Epoch [380], val_loss: 7356.9590\n",
            "Epoch [400], val_loss: 7350.3647\n",
            "Epoch [420], val_loss: 7344.9146\n",
            "Epoch [440], val_loss: 7341.9800\n",
            "Epoch [460], val_loss: 7339.2144\n",
            "Epoch [480], val_loss: 7336.2505\n",
            "Epoch [500], val_loss: 7333.1431\n"
          ],
          "name": "stdout"
        }
      ]
    },
    {
      "cell_type": "code",
      "metadata": {
        "colab": {
          "base_uri": "https://localhost:8080/"
        },
        "id": "Xv8nATnRLdMc",
        "outputId": "5820e051-f012-412b-f205-0d5a141a906b"
      },
      "source": [
        "epochs = 500\n",
        "lr = 0.70\n",
        "history2 = fit(epochs, lr, insuranceModel, train_loader, val_loader)"
      ],
      "execution_count": null,
      "outputs": [
        {
          "output_type": "stream",
          "text": [
            "Epoch [20], val_loss: 7261.6831\n",
            "Epoch [40], val_loss: 7224.1294\n",
            "Epoch [60], val_loss: 7168.1499\n",
            "Epoch [80], val_loss: 7133.9395\n",
            "Epoch [100], val_loss: 7148.5532\n",
            "Epoch [120], val_loss: 7069.2246\n",
            "Epoch [140], val_loss: 7045.1616\n",
            "Epoch [160], val_loss: 7036.4258\n",
            "Epoch [180], val_loss: 6990.4741\n",
            "Epoch [200], val_loss: 7017.4731\n",
            "Epoch [220], val_loss: 7015.0679\n",
            "Epoch [240], val_loss: 6944.4941\n",
            "Epoch [260], val_loss: 6987.7446\n",
            "Epoch [280], val_loss: 6878.8101\n",
            "Epoch [300], val_loss: 6963.3149\n",
            "Epoch [320], val_loss: 6838.1289\n",
            "Epoch [340], val_loss: 6872.1616\n",
            "Epoch [360], val_loss: 6804.7944\n",
            "Epoch [380], val_loss: 6836.7891\n",
            "Epoch [400], val_loss: 6748.6899\n",
            "Epoch [420], val_loss: 6723.7534\n",
            "Epoch [440], val_loss: 7096.6406\n",
            "Epoch [460], val_loss: 6814.9868\n",
            "Epoch [480], val_loss: 6698.9790\n",
            "Epoch [500], val_loss: 6668.5430\n"
          ],
          "name": "stdout"
        }
      ]
    },
    {
      "cell_type": "code",
      "metadata": {
        "colab": {
          "base_uri": "https://localhost:8080/"
        },
        "id": "fJP99Y9pLdMd",
        "outputId": "780e379f-c17d-43dc-f2f5-9f3640c9ff21"
      },
      "source": [
        "epochs = 500\n",
        "lr = 0.65\n",
        "history3 = fit(epochs, lr, insuranceModel, train_loader, val_loader)"
      ],
      "execution_count": null,
      "outputs": [
        {
          "output_type": "stream",
          "text": [
            "Epoch [20], val_loss: 6162.6538\n",
            "Epoch [40], val_loss: 6162.4907\n",
            "Epoch [60], val_loss: 6192.8535\n",
            "Epoch [80], val_loss: 6099.5879\n",
            "Epoch [100], val_loss: 6128.9961\n",
            "Epoch [120], val_loss: 6113.5039\n",
            "Epoch [140], val_loss: 6072.2891\n",
            "Epoch [160], val_loss: 6029.5449\n",
            "Epoch [180], val_loss: 6011.8516\n",
            "Epoch [200], val_loss: 5981.0132\n",
            "Epoch [220], val_loss: 6100.0898\n",
            "Epoch [240], val_loss: 5939.7593\n",
            "Epoch [260], val_loss: 5965.8457\n",
            "Epoch [280], val_loss: 5912.2266\n",
            "Epoch [300], val_loss: 5882.2915\n",
            "Epoch [320], val_loss: 5870.1714\n",
            "Epoch [340], val_loss: 5863.2837\n",
            "Epoch [360], val_loss: 5830.8413\n",
            "Epoch [380], val_loss: 5862.3306\n",
            "Epoch [400], val_loss: 5785.9575\n",
            "Epoch [420], val_loss: 5762.6870\n",
            "Epoch [440], val_loss: 5803.5122\n",
            "Epoch [460], val_loss: 5731.3647\n",
            "Epoch [480], val_loss: 5763.6660\n",
            "Epoch [500], val_loss: 5747.1636\n"
          ],
          "name": "stdout"
        }
      ]
    },
    {
      "cell_type": "code",
      "metadata": {
        "colab": {
          "base_uri": "https://localhost:8080/"
        },
        "id": "zs9WGUNDLdMd",
        "outputId": "853e10f5-4e87-4541-fae2-88e8825ddc22"
      },
      "source": [
        "epochs = 1000\n",
        "lr = 0.70\n",
        "history4 = fit(epochs, lr, insuranceModel, train_loader, val_loader)"
      ],
      "execution_count": null,
      "outputs": [
        {
          "output_type": "stream",
          "text": [
            "Epoch [20], val_loss: 5723.4146\n",
            "Epoch [40], val_loss: 5642.4312\n",
            "Epoch [60], val_loss: 5618.3652\n",
            "Epoch [80], val_loss: 5648.4702\n",
            "Epoch [100], val_loss: 5610.0415\n",
            "Epoch [120], val_loss: 5554.1445\n",
            "Epoch [140], val_loss: 5532.8247\n",
            "Epoch [160], val_loss: 5530.2974\n",
            "Epoch [180], val_loss: 5510.8149\n",
            "Epoch [200], val_loss: 5493.1011\n",
            "Epoch [220], val_loss: 5526.6060\n",
            "Epoch [240], val_loss: 5628.6133\n",
            "Epoch [260], val_loss: 5451.5200\n",
            "Epoch [280], val_loss: 5404.7183\n",
            "Epoch [300], val_loss: 5405.4263\n",
            "Epoch [320], val_loss: 5356.9243\n",
            "Epoch [340], val_loss: 5331.7329\n",
            "Epoch [360], val_loss: 5300.2837\n",
            "Epoch [380], val_loss: 5293.2646\n",
            "Epoch [400], val_loss: 5288.1001\n",
            "Epoch [420], val_loss: 5237.6567\n",
            "Epoch [440], val_loss: 5231.4722\n",
            "Epoch [460], val_loss: 5193.5747\n",
            "Epoch [480], val_loss: 5314.4829\n",
            "Epoch [500], val_loss: 5165.2886\n",
            "Epoch [520], val_loss: 5304.1733\n",
            "Epoch [540], val_loss: 5109.8516\n",
            "Epoch [560], val_loss: 5162.3257\n",
            "Epoch [580], val_loss: 5066.2505\n",
            "Epoch [600], val_loss: 5057.3862\n",
            "Epoch [620], val_loss: 5055.4570\n",
            "Epoch [640], val_loss: 5021.7832\n",
            "Epoch [660], val_loss: 5001.3022\n",
            "Epoch [680], val_loss: 5011.7095\n",
            "Epoch [700], val_loss: 4944.4058\n",
            "Epoch [720], val_loss: 4923.9214\n",
            "Epoch [740], val_loss: 5019.6851\n",
            "Epoch [760], val_loss: 4892.9531\n",
            "Epoch [780], val_loss: 4870.4014\n",
            "Epoch [800], val_loss: 4914.1396\n",
            "Epoch [820], val_loss: 4823.3940\n",
            "Epoch [840], val_loss: 4870.5142\n",
            "Epoch [860], val_loss: 4789.0688\n",
            "Epoch [880], val_loss: 4777.6226\n",
            "Epoch [900], val_loss: 4762.4595\n",
            "Epoch [920], val_loss: 4767.8794\n",
            "Epoch [940], val_loss: 4713.3750\n",
            "Epoch [960], val_loss: 4715.5249\n",
            "Epoch [980], val_loss: 4694.4917\n",
            "Epoch [1000], val_loss: 4759.0024\n"
          ],
          "name": "stdout"
        }
      ]
    },
    {
      "cell_type": "code",
      "metadata": {
        "colab": {
          "base_uri": "https://localhost:8080/"
        },
        "id": "ALBupHgrLdMe",
        "outputId": "4a00e711-9415-455b-8682-404a7ecf842d"
      },
      "source": [
        "epochs = 1000\n",
        "lr = 0.65\n",
        "history5 = fit(epochs, lr, insuranceModel, train_loader, val_loader)"
      ],
      "execution_count": null,
      "outputs": [
        {
          "output_type": "stream",
          "text": [
            "Epoch [20], val_loss: 4626.3809\n",
            "Epoch [40], val_loss: 4625.9653\n",
            "Epoch [60], val_loss: 4662.4775\n",
            "Epoch [80], val_loss: 4650.5039\n",
            "Epoch [100], val_loss: 4558.8765\n",
            "Epoch [120], val_loss: 4569.7261\n",
            "Epoch [140], val_loss: 4587.4312\n",
            "Epoch [160], val_loss: 4532.7383\n",
            "Epoch [180], val_loss: 4513.5415\n",
            "Epoch [200], val_loss: 4484.9028\n",
            "Epoch [220], val_loss: 4467.4956\n",
            "Epoch [240], val_loss: 4450.5825\n",
            "Epoch [260], val_loss: 4436.2183\n",
            "Epoch [280], val_loss: 4435.4204\n",
            "Epoch [300], val_loss: 4407.3398\n",
            "Epoch [320], val_loss: 4393.2778\n",
            "Epoch [340], val_loss: 4412.0137\n",
            "Epoch [360], val_loss: 4364.1196\n",
            "Epoch [380], val_loss: 4476.1582\n",
            "Epoch [400], val_loss: 4355.9966\n",
            "Epoch [420], val_loss: 4335.9653\n",
            "Epoch [440], val_loss: 4316.1694\n",
            "Epoch [460], val_loss: 4443.5747\n",
            "Epoch [480], val_loss: 4290.7056\n",
            "Epoch [500], val_loss: 4314.5181\n",
            "Epoch [520], val_loss: 4276.5454\n",
            "Epoch [540], val_loss: 4279.0239\n",
            "Epoch [560], val_loss: 4234.6636\n",
            "Epoch [580], val_loss: 4264.7061\n",
            "Epoch [600], val_loss: 4289.0425\n",
            "Epoch [620], val_loss: 4243.4146\n",
            "Epoch [640], val_loss: 4214.4595\n",
            "Epoch [660], val_loss: 4190.1040\n",
            "Epoch [680], val_loss: 4304.1245\n",
            "Epoch [700], val_loss: 4201.5273\n",
            "Epoch [720], val_loss: 4208.7026\n",
            "Epoch [740], val_loss: 4165.8701\n",
            "Epoch [760], val_loss: 4165.8354\n",
            "Epoch [780], val_loss: 4141.8755\n",
            "Epoch [800], val_loss: 4166.3208\n",
            "Epoch [820], val_loss: 4190.1655\n",
            "Epoch [840], val_loss: 4128.3848\n",
            "Epoch [860], val_loss: 4142.3657\n",
            "Epoch [880], val_loss: 4237.0679\n",
            "Epoch [900], val_loss: 4108.5352\n",
            "Epoch [920], val_loss: 4114.5234\n",
            "Epoch [940], val_loss: 4118.7090\n",
            "Epoch [960], val_loss: 4103.2837\n",
            "Epoch [980], val_loss: 4114.4863\n",
            "Epoch [1000], val_loss: 4185.8892\n"
          ],
          "name": "stdout"
        }
      ]
    },
    {
      "cell_type": "code",
      "metadata": {
        "colab": {
          "base_uri": "https://localhost:8080/"
        },
        "id": "khKHpPFuIdRb",
        "outputId": "8ba48386-ed5e-41aa-e8d8-a3224c015f25"
      },
      "source": [
        "epochs = 1000\r\n",
        "lr = 0.70\r\n",
        "history6 = fit(epochs, lr, insuranceModel, train_loader, val_loader)"
      ],
      "execution_count": null,
      "outputs": [
        {
          "output_type": "stream",
          "text": [
            "Epoch [20], val_loss: 4078.0930\n",
            "Epoch [40], val_loss: 4072.6003\n",
            "Epoch [60], val_loss: 4077.5842\n",
            "Epoch [80], val_loss: 4073.5027\n",
            "Epoch [100], val_loss: 4066.6934\n",
            "Epoch [120], val_loss: 4060.8049\n",
            "Epoch [140], val_loss: 4188.3481\n",
            "Epoch [160], val_loss: 4278.5796\n",
            "Epoch [180], val_loss: 4056.3704\n",
            "Epoch [200], val_loss: 4092.5237\n",
            "Epoch [220], val_loss: 4055.6204\n",
            "Epoch [240], val_loss: 4038.0750\n",
            "Epoch [260], val_loss: 4176.4766\n",
            "Epoch [280], val_loss: 4059.2092\n",
            "Epoch [300], val_loss: 4059.0837\n",
            "Epoch [320], val_loss: 4064.0793\n",
            "Epoch [340], val_loss: 4045.8362\n",
            "Epoch [360], val_loss: 4020.8884\n",
            "Epoch [380], val_loss: 4015.0999\n",
            "Epoch [400], val_loss: 4016.1660\n",
            "Epoch [420], val_loss: 4021.5244\n",
            "Epoch [440], val_loss: 4339.0864\n",
            "Epoch [460], val_loss: 4046.4221\n",
            "Epoch [480], val_loss: 4036.3242\n",
            "Epoch [500], val_loss: 4206.3828\n",
            "Epoch [520], val_loss: 4049.7468\n",
            "Epoch [540], val_loss: 4331.2090\n",
            "Epoch [560], val_loss: 4314.6987\n",
            "Epoch [580], val_loss: 4006.7620\n",
            "Epoch [600], val_loss: 4005.8352\n",
            "Epoch [620], val_loss: 4094.1680\n",
            "Epoch [640], val_loss: 4057.2869\n",
            "Epoch [660], val_loss: 4143.1812\n",
            "Epoch [680], val_loss: 4053.6458\n",
            "Epoch [700], val_loss: 3998.3665\n",
            "Epoch [720], val_loss: 4044.0020\n",
            "Epoch [740], val_loss: 4060.0671\n",
            "Epoch [760], val_loss: 4194.4653\n",
            "Epoch [780], val_loss: 4035.8379\n",
            "Epoch [800], val_loss: 4099.5762\n",
            "Epoch [820], val_loss: 4012.9377\n",
            "Epoch [840], val_loss: 4184.4321\n",
            "Epoch [860], val_loss: 4197.7954\n",
            "Epoch [880], val_loss: 3997.5498\n",
            "Epoch [900], val_loss: 4125.9082\n",
            "Epoch [920], val_loss: 4087.7666\n",
            "Epoch [940], val_loss: 3999.3230\n",
            "Epoch [960], val_loss: 4012.7429\n",
            "Epoch [980], val_loss: 4303.6426\n",
            "Epoch [1000], val_loss: 4006.5486\n"
          ],
          "name": "stdout"
        }
      ]
    },
    {
      "cell_type": "code",
      "metadata": {
        "colab": {
          "base_uri": "https://localhost:8080/"
        },
        "id": "VmYpnU_27zV2",
        "outputId": "ff694e25-3efe-43fb-90e4-89f1e2c799f4"
      },
      "source": [
        "epochs = 1000\r\n",
        "lr = 0.65\r\n",
        "history7 = fit(epochs, lr, insuranceModel, train_loader, val_loader)"
      ],
      "execution_count": null,
      "outputs": [
        {
          "output_type": "stream",
          "text": [
            "Epoch [20], val_loss: 4020.4910\n",
            "Epoch [40], val_loss: 4029.9304\n",
            "Epoch [60], val_loss: 4005.3369\n",
            "Epoch [80], val_loss: 4005.2712\n",
            "Epoch [100], val_loss: 4043.7747\n",
            "Epoch [120], val_loss: 4033.0281\n",
            "Epoch [140], val_loss: 4429.5093\n",
            "Epoch [160], val_loss: 4035.5657\n",
            "Epoch [180], val_loss: 4010.1367\n",
            "Epoch [200], val_loss: 4116.5479\n",
            "Epoch [220], val_loss: 4128.3940\n",
            "Epoch [240], val_loss: 4012.0303\n",
            "Epoch [260], val_loss: 4012.1917\n",
            "Epoch [280], val_loss: 4034.6809\n",
            "Epoch [300], val_loss: 4052.5632\n",
            "Epoch [320], val_loss: 4040.2917\n",
            "Epoch [340], val_loss: 4042.4680\n",
            "Epoch [360], val_loss: 4015.0276\n",
            "Epoch [380], val_loss: 4079.7898\n",
            "Epoch [400], val_loss: 4110.7344\n",
            "Epoch [420], val_loss: 4017.0774\n",
            "Epoch [440], val_loss: 4057.4082\n",
            "Epoch [460], val_loss: 4019.9160\n",
            "Epoch [480], val_loss: 4038.0911\n",
            "Epoch [500], val_loss: 4148.4165\n",
            "Epoch [520], val_loss: 4080.4324\n",
            "Epoch [540], val_loss: 4032.7039\n",
            "Epoch [560], val_loss: 4022.4072\n",
            "Epoch [580], val_loss: 4316.2954\n",
            "Epoch [600], val_loss: 4078.1794\n",
            "Epoch [620], val_loss: 4189.7583\n",
            "Epoch [640], val_loss: 4146.4648\n",
            "Epoch [660], val_loss: 4203.7749\n",
            "Epoch [680], val_loss: 4510.5688\n",
            "Epoch [700], val_loss: 4078.6982\n",
            "Epoch [720], val_loss: 4104.6626\n",
            "Epoch [740], val_loss: 4052.4441\n",
            "Epoch [760], val_loss: 4042.5869\n",
            "Epoch [780], val_loss: 4073.2434\n",
            "Epoch [800], val_loss: 4318.5361\n",
            "Epoch [820], val_loss: 4032.8333\n",
            "Epoch [840], val_loss: 4079.8513\n",
            "Epoch [860], val_loss: 4097.1118\n",
            "Epoch [880], val_loss: 4159.0981\n",
            "Epoch [900], val_loss: 4087.4236\n",
            "Epoch [920], val_loss: 4068.6218\n",
            "Epoch [940], val_loss: 4042.9707\n",
            "Epoch [960], val_loss: 4040.8167\n",
            "Epoch [980], val_loss: 4149.8052\n",
            "Epoch [1000], val_loss: 4106.7847\n"
          ],
          "name": "stdout"
        }
      ]
    },
    {
      "cell_type": "code",
      "metadata": {
        "colab": {
          "base_uri": "https://localhost:8080/"
        },
        "id": "NZxhFKJ-DUos",
        "outputId": "34abb9f6-3538-4508-8ade-1160511c006d"
      },
      "source": [
        "epochs = 500\r\n",
        "lr = 0.50\r\n",
        "history8 = fit(epochs, lr, insuranceModel, train_loader, val_loader)"
      ],
      "execution_count": null,
      "outputs": [
        {
          "output_type": "stream",
          "text": [
            "Epoch [20], val_loss: 4043.0857\n",
            "Epoch [40], val_loss: 4042.6492\n",
            "Epoch [60], val_loss: 4172.1055\n",
            "Epoch [80], val_loss: 4048.2922\n",
            "Epoch [100], val_loss: 4046.4290\n",
            "Epoch [120], val_loss: 4062.7415\n",
            "Epoch [140], val_loss: 4158.8809\n",
            "Epoch [160], val_loss: 4133.2339\n",
            "Epoch [180], val_loss: 4051.4011\n",
            "Epoch [200], val_loss: 4104.7798\n",
            "Epoch [220], val_loss: 4066.3450\n",
            "Epoch [240], val_loss: 4050.6467\n",
            "Epoch [260], val_loss: 4078.0198\n",
            "Epoch [280], val_loss: 4051.3484\n",
            "Epoch [300], val_loss: 4137.7891\n",
            "Epoch [320], val_loss: 4067.3416\n",
            "Epoch [340], val_loss: 4089.0417\n",
            "Epoch [360], val_loss: 4185.7480\n",
            "Epoch [380], val_loss: 4245.8594\n",
            "Epoch [400], val_loss: 4099.7241\n",
            "Epoch [420], val_loss: 4073.4568\n",
            "Epoch [440], val_loss: 4066.8274\n",
            "Epoch [460], val_loss: 4069.4128\n",
            "Epoch [480], val_loss: 4061.2961\n",
            "Epoch [500], val_loss: 4061.3767\n"
          ],
          "name": "stdout"
        }
      ]
    },
    {
      "cell_type": "markdown",
      "metadata": {
        "id": "0p8TLMBsLdMe"
      },
      "source": [
        "**Q: What is the final validation loss of your model?**"
      ]
    },
    {
      "cell_type": "code",
      "metadata": {
        "colab": {
          "base_uri": "https://localhost:8080/"
        },
        "id": "VugPucGMLdMe",
        "outputId": "88667026-4d7f-4139-814d-2274b17db1e3"
      },
      "source": [
        "val_loss = history8[-1]['val_loss']\r\n",
        "val_loss"
      ],
      "execution_count": null,
      "outputs": [
        {
          "output_type": "execute_result",
          "data": {
            "text/plain": [
              "4061.376708984375"
            ]
          },
          "metadata": {
            "tags": []
          },
          "execution_count": 47
        }
      ]
    },
    {
      "cell_type": "markdown",
      "metadata": {
        "id": "z7M3uPDeLdMf"
      },
      "source": [
        "Let's log the final validation loss to Jovian and commit the notebook"
      ]
    },
    {
      "cell_type": "code",
      "metadata": {
        "colab": {
          "base_uri": "https://localhost:8080/"
        },
        "id": "S6z-BQSZLdMf",
        "outputId": "15c2e84f-3724-40d2-fdd5-ab036016b3ed"
      },
      "source": [
        "jovian.log_metrics(val_loss=val_loss)"
      ],
      "execution_count": null,
      "outputs": [
        {
          "output_type": "stream",
          "text": [
            "[jovian] Please enter your API key ( from https://jovian.ai/ ):\u001b[0m\n",
            "API KEY: "
          ],
          "name": "stdout"
        }
      ]
    },
    {
      "cell_type": "code",
      "metadata": {
        "id": "wmTRWlMqCO4N"
      },
      "source": [
        "torch.save(model.state_dict(), 'insurance-linear.pth')"
      ],
      "execution_count": null,
      "outputs": []
    },
    {
      "cell_type": "code",
      "metadata": {
        "colab": {
          "base_uri": "https://localhost:8080/",
          "height": 103
        },
        "id": "Bh4a3gmzLdMf",
        "outputId": "7212f2ff-e2b3-4e1e-82ba-ea69bb7af005"
      },
      "source": [
        "jovian.commit(project=project_name, environment=None)"
      ],
      "execution_count": null,
      "outputs": [
        {
          "output_type": "stream",
          "text": [
            "[jovian] Detected Colab notebook...\u001b[0m\n",
            "[jovian] Uploading colab notebook to Jovian...\u001b[0m\n",
            "[jovian] Attaching records (metrics, hyperparameters, dataset etc.)\u001b[0m\n",
            "[jovian] Committed successfully! https://jovian.ai/hada-garcia/02-insurance-linear-regression\u001b[0m\n"
          ],
          "name": "stdout"
        },
        {
          "output_type": "execute_result",
          "data": {
            "application/vnd.google.colaboratory.intrinsic+json": {
              "type": "string"
            },
            "text/plain": [
              "'https://jovian.ai/hada-garcia/02-insurance-linear-regression'"
            ]
          },
          "metadata": {
            "tags": []
          },
          "execution_count": 79
        }
      ]
    },
    {
      "cell_type": "markdown",
      "metadata": {
        "id": "TYnu8oj6LdMg"
      },
      "source": [
        "Now scroll back up, re-initialize the model, and try different set of values for batch size, number of epochs, learning rate etc. Commit each experiment and use the \"Compare\" and \"View Diff\" options on Jovian to compare the different results."
      ]
    },
    {
      "cell_type": "markdown",
      "metadata": {
        "id": "KdrIgtTfLdMg"
      },
      "source": [
        "## Step 5: Make predictions using the trained model\n",
        "\n",
        "**Q: Complete the following function definition to make predictions on a single input**"
      ]
    },
    {
      "cell_type": "code",
      "metadata": {
        "id": "vKvXBn2JLdMh"
      },
      "source": [
        "def predict_single(input, target, model):\n",
        "    inputs = input.unsqueeze(0)\n",
        "    predictions = model(inputs)               # fill this\n",
        "    prediction = predictions[0].detach()\n",
        "    print(\"Input:\", input)\n",
        "    print(\"Target:\", target)\n",
        "    print(\"Prediction:\", prediction)"
      ],
      "execution_count": null,
      "outputs": []
    },
    {
      "cell_type": "code",
      "metadata": {
        "colab": {
          "base_uri": "https://localhost:8080/"
        },
        "id": "rUZfjUMDNBOg",
        "outputId": "bc6a6840-844e-4ca0-ffa6-b99173d41baa"
      },
      "source": [
        "val_ds[1]"
      ],
      "execution_count": null,
      "outputs": [
        {
          "output_type": "execute_result",
          "data": {
            "text/plain": [
              "(tensor([33.0000,  1.0000, 26.2870,  1.0000,  1.0000,  3.0000]),\n",
              " tensor([20564.1465]))"
            ]
          },
          "metadata": {
            "tags": []
          },
          "execution_count": 195
        }
      ]
    },
    {
      "cell_type": "code",
      "metadata": {
        "colab": {
          "base_uri": "https://localhost:8080/"
        },
        "id": "jNAoJCz0LdMh",
        "outputId": "5754ba04-5d0c-45b7-f49f-bd0e68c9b7d1"
      },
      "source": [
        "input, target = val_ds[0]\n",
        "predict_single(input, target, insuranceModel)"
      ],
      "execution_count": null,
      "outputs": [
        {
          "output_type": "stream",
          "text": [
            "Input: tensor([25.0000,  1.0000, 44.1738,  2.0000,  1.0000,  2.0000])\n",
            "Target: tensor([45481.2148])\n",
            "Prediction: tensor([21024.0898])\n"
          ],
          "name": "stdout"
        }
      ]
    },
    {
      "cell_type": "code",
      "metadata": {
        "colab": {
          "base_uri": "https://localhost:8080/"
        },
        "id": "4ABti6rvLdMh",
        "outputId": "005205a6-4992-43b2-9523-e2b62a6bdc1a"
      },
      "source": [
        "input, target = val_ds[10]\n",
        "predict_single(input, target, insuranceModel)"
      ],
      "execution_count": null,
      "outputs": [
        {
          "output_type": "stream",
          "text": [
            "Input: tensor([40.0000,  0.0000, 26.5780,  1.0000,  0.0000,  3.0000])\n",
            "Target: tensor([7016.6367])\n",
            "Prediction: tensor([7285.8447])\n"
          ],
          "name": "stdout"
        }
      ]
    },
    {
      "cell_type": "code",
      "metadata": {
        "colab": {
          "base_uri": "https://localhost:8080/"
        },
        "id": "WgA7uWu9LdMi",
        "outputId": "5108c2a0-d7ac-4d4c-b7a5-95475f2348af"
      },
      "source": [
        "input, target = val_ds[23]\n",
        "predict_single(input, target, insuranceModel)"
      ],
      "execution_count": null,
      "outputs": [
        {
          "output_type": "stream",
          "text": [
            "Input: tensor([18.0000,  0.0000, 32.8636,  0.0000,  0.0000,  2.0000])\n",
            "Target: tensor([12401.2461])\n",
            "Prediction: tensor([1177.5076])\n"
          ],
          "name": "stdout"
        }
      ]
    },
    {
      "cell_type": "markdown",
      "metadata": {
        "id": "bsiuhS15LdMi"
      },
      "source": [
        "Are you happy with your model's predictions? Try to improve them further."
      ]
    },
    {
      "cell_type": "markdown",
      "metadata": {
        "id": "m-0zBVs3LdMj"
      },
      "source": [
        "## (Optional) Step 6: Try another dataset & blog about it\n",
        "\n",
        "While this last step is optional for the submission of your assignment, we highly recommend that you do it. Try to replicate this notebook for a different linear regression or logistic regression problem. This will help solidify your understanding, and give you a chance to differentiate the generic patterns in machine learning from problem-specific details.You can use one of these starer notebooks (just change the dataset):\n",
        "\n",
        "- Linear regression (minimal): https://jovian.ai/aakashns/housing-linear-minimal\n",
        "- Logistic regression (minimal): https://jovian.ai/aakashns/mnist-logistic-minimal\n",
        "\n",
        "Here are some sources to find good datasets:\n",
        "\n",
        "- https://lionbridge.ai/datasets/10-open-datasets-for-linear-regression/\n",
        "- https://www.kaggle.com/rtatman/datasets-for-regression-analysis\n",
        "- https://archive.ics.uci.edu/ml/datasets.php?format=&task=reg&att=&area=&numAtt=&numIns=&type=&sort=nameUp&view=table\n",
        "- https://people.sc.fsu.edu/~jburkardt/datasets/regression/regression.html\n",
        "- https://archive.ics.uci.edu/ml/datasets/wine+quality\n",
        "- https://pytorch.org/docs/stable/torchvision/datasets.html\n",
        "\n",
        "We also recommend that you write a blog about your approach to the problem. Here is a suggested structure for your post (feel free to experiment with it):\n",
        "\n",
        "- Interesting title & subtitle\n",
        "- Overview of what the blog covers (which dataset, linear regression or logistic regression, intro to PyTorch)\n",
        "- Downloading & exploring the data\n",
        "- Preparing the data for training\n",
        "- Creating a model using PyTorch\n",
        "- Training the model to fit the data\n",
        "- Your thoughts on how to experiment with different hyperparmeters to reduce loss\n",
        "- Making predictions using the model\n",
        "\n",
        "As with the previous assignment, you can [embed Juptyer notebook cells & outputs from Jovian](https://medium.com/jovianml/share-and-embed-jupyter-notebooks-online-with-jovian-ml-df709a03064e) into your blog. \n",
        "\n",
        "Don't forget to share your work on the forum: https://jovian.ai/forum/t/linear-regression-and-logistic-regression-notebooks-and-blog-posts/14039"
      ]
    },
    {
      "cell_type": "code",
      "metadata": {
        "colab": {
          "base_uri": "https://localhost:8080/",
          "height": 86
        },
        "id": "WVJnbaOzLdMj",
        "outputId": "76b84d06-c3ab-4341-869d-5a7f94de68c1"
      },
      "source": [
        "jovian.commit(project=project_name, environment=None)\n",
        "#jovian.commit(project=project_name, environment=None) # try again, kaggle fails sometimes"
      ],
      "execution_count": null,
      "outputs": [
        {
          "output_type": "stream",
          "text": [
            "[jovian] Detected Colab notebook...\u001b[0m\n",
            "[jovian] Uploading colab notebook to Jovian...\u001b[0m\n",
            "[jovian] Committed successfully! https://jovian.ai/hada-garcia/02-insurance-linear-regression\u001b[0m\n"
          ],
          "name": "stdout"
        },
        {
          "output_type": "execute_result",
          "data": {
            "application/vnd.google.colaboratory.intrinsic+json": {
              "type": "string"
            },
            "text/plain": [
              "'https://jovian.ai/hada-garcia/02-insurance-linear-regression'"
            ]
          },
          "metadata": {
            "tags": []
          },
          "execution_count": 198
        }
      ]
    },
    {
      "cell_type": "code",
      "metadata": {
        "id": "A5J5bIQiLdMj"
      },
      "source": [
        ""
      ],
      "execution_count": null,
      "outputs": []
    }
  ]
}